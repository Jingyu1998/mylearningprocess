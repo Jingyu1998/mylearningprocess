{
 "cells": [
  {
   "cell_type": "code",
   "execution_count": 1,
   "metadata": {},
   "outputs": [
    {
     "name": "stdout",
     "output_type": "stream",
     "text": [
      "   Total players\n",
      "0            576\n"
     ]
    }
   ],
   "source": [
    "import pandas as pd\n",
    "from pandas import Series,DataFrame\n",
    "import numpy as np\n",
    "data = pd.read_csv('purchase_data.csv') #輸入原始資料\n",
    "#print(data)\n",
    "num_player = data['SN'].drop_duplicates().values.tolist()\n",
    "#print(len(num_player))\n",
    "p = {'Total players':[len(num_player)]}\n",
    "player = DataFrame(p)\n",
    "print(player)"
   ]
  },
  {
   "cell_type": "code",
   "execution_count": 2,
   "metadata": {},
   "outputs": [
    {
     "name": "stdout",
     "output_type": "stream",
     "text": [
      "   Number of Unique Items Average Price  Number of Purchases Total Revenue\n",
      "0                     183         $3.05                  780      $2379.77\n"
     ]
    }
   ],
   "source": [
    "ID = data.drop_duplicates(subset=['Item ID'])\n",
    "#print(ID)\n",
    "price = data['Price'].values.tolist()\n",
    "#print(price)\n",
    "a = {'Number of Unique Items':[len(ID.index)],'Average Price':[\"$%.2f\"%(sum(price)/len(price))]\n",
    "    ,'Number of Purchases':[len(data.index)],'Total Revenue':[\"$%.2f\"%(sum(price))]}\n",
    "aa = DataFrame(a)\n",
    "print(aa)"
   ]
  },
  {
   "cell_type": "code",
   "execution_count": 3,
   "metadata": {},
   "outputs": [
    {
     "name": "stdout",
     "output_type": "stream",
     "text": [
      "                    Percentage of Players  Total Count\n",
      "Male                                84.03          484\n",
      "Female                              14.06           81\n",
      "Other/Non-Disclosed                  1.91           11\n"
     ]
    }
   ],
   "source": [
    "pplayer = data.drop_duplicates(subset=['SN'])\n",
    "Gender = pplayer['Gender'].value_counts()\n",
    "gender = Gender.values.tolist()\n",
    "#print(gender)\n",
    "b = {'Percentage of Players':{'Male':\"%.2f\"%((gender[0]/len(pplayer.index))*100)\n",
    "    ,'Female':\"%.2f\"%((gender[1]/len(pplayer.index))*100)\n",
    "    ,'Other/Non-Disclosed':\"%.2f\"%((gender[2]/len(pplayer.index))*100)}\n",
    "    ,'Total Count':{'Male':gender[0],'Female':gender[1],'Other/Non-Disclosed':gender[2]}}\n",
    "bb = DataFrame(b)\n",
    "print(bb)"
   ]
  },
  {
   "cell_type": "code",
   "execution_count": 4,
   "metadata": {},
   "outputs": [
    {
     "name": "stdout",
     "output_type": "stream",
     "text": [
      "                Gender  Purchase count Average Purchase Price  Total Purchase Value Avg Purchase Total per Person\n",
      "                Female             113                3.20301                361.94                         $4.47\n",
      "                  Male             652                3.01785               1967.64                         $4.07\n",
      " Other / Non-Disclosed              15                  3.346                 50.19                         $4.56\n"
     ]
    }
   ],
   "source": [
    "Male = data[data['Gender'] == \"Male\"]\n",
    "male = Male['Price'].tolist()\n",
    "#print(male)\n",
    "Female = data[data['Gender'] == \"Female\"]\n",
    "female = Female['Price'].tolist()\n",
    "#print(female)\n",
    "Other = data[data['Gender'] == \"Other / Non-Disclosed\"]\n",
    "other = Other['Price'].tolist()\n",
    "#print(other)\n",
    "c = {'Gender':[\"Female\",\"Male\",\"Other / Non-Disclosed\"]\n",
    "    ,'Purchase count':[len(Female.index),len(Male.index),len(Other.index)]\n",
    "    ,'Average Purchase Price':[\"%.5f\"%(sum(female)/len(female)),\"%.5f\"%(sum(male)/len(male)),\"%.3f\"%(sum(other)/len(other))]\n",
    "    ,'Total Purchase Value':[sum(female),sum(male),sum(other)]\n",
    "    ,'Avg Purchase Total per Person':[\"$%.2f\"%(sum(female)/gender[1]),\"$%.2f\"%(sum(male)/gender[0]),\"$%.2f\"%(sum(other)/gender[2])]}\n",
    "cc = DataFrame(c)\n",
    "print(cc.to_string(index=False))"
   ]
  },
  {
   "cell_type": "code",
   "execution_count": 5,
   "metadata": {},
   "outputs": [
    {
     "name": "stdout",
     "output_type": "stream",
     "text": [
      "      Percentage of Players  Total Count\n",
      "                       2.95           17\n",
      "10-14                  3.82           22\n",
      "15-19                 18.58          107\n",
      "20-24                 44.79          258\n",
      "25-29                 13.37           77\n",
      "30-34                  9.03           52\n",
      "35-39                  5.38           31\n",
      "40+                    2.08           12\n"
     ]
    }
   ],
   "source": [
    "Age0 = pplayer[pplayer['Age'] < 10]\n",
    "Age11 = pplayer[pplayer['Age'] >= 10]\n",
    "Age1 = Age11[Age11['Age'] < 15]\n",
    "Age22 = pplayer[pplayer['Age'] >= 15]\n",
    "Age2 = Age22[Age22['Age'] < 20]\n",
    "Age33 = pplayer[pplayer['Age'] >= 20]\n",
    "Age3 = Age33[Age33['Age'] < 25]\n",
    "Age44 = pplayer[pplayer['Age'] >= 25]\n",
    "Age4 = Age44[Age44['Age'] < 30]\n",
    "Age55 = pplayer[pplayer['Age'] >= 30]\n",
    "Age5 = Age55[Age55['Age'] < 35]\n",
    "Age66 = pplayer[pplayer['Age'] >= 35]\n",
    "Age6 = Age66[Age66['Age'] < 40]\n",
    "Age7 = pplayer[40 <= pplayer['Age']]\n",
    "d = {'Percentage of Players':{'     ':\"%.2f\"%((len(Age0.index)/len(pplayer.index))*100),\n",
    "                              \"10-14\":\"%.2f\"%((len(Age1.index)/len(pplayer.index))*100),\n",
    "                              \"15-19\":\"%.2f\"%((len(Age2.index)/len(pplayer.index))*100),\n",
    "                              '20-24':\"%.2f\"%((len(Age3.index)/len(pplayer.index))*100),\n",
    "                              '25-29':\"%.2f\"%((len(Age4.index)/len(pplayer.index))*100),\n",
    "                              '30-34':\"%.2f\"%((len(Age5.index)/len(pplayer.index))*100),\n",
    "                              \"35-39\":\"%.2f\"%((len(Age6.index)/len(pplayer.index))*100),\n",
    "                              \"40+\":\"%.2f\"%((len(Age7.index)/len(pplayer.index))*100)}\n",
    ",'Total Count':{'     ':len(Age0.index),\"10-14\":len(Age1.index),\"15-19\":len(Age2.index),'20-24':len(Age3.index)\n",
    "    ,'25-29':len(Age4.index),'30-34':len(Age5.index),\"35-39\":len(Age6.index),\"40+\":len(Age7.index)}}\n",
    "dd = DataFrame(d)\n",
    "print(dd)"
   ]
  },
  {
   "cell_type": "code",
   "execution_count": 6,
   "metadata": {},
   "outputs": [
    {
     "name": "stdout",
     "output_type": "stream",
     "text": [
      "       Purchase Count Average Purchase Price Total Count  \\\n",
      "                   23                  $3.35      $77.13   \n",
      "10-14              28                  $2.96      $82.78   \n",
      "15-19             136                  $3.04     $412.89   \n",
      "20-24             365                  $3.05    $1114.06   \n",
      "25-29             101                  $2.90     $293.00   \n",
      "30-34              73                  $2.93     $214.00   \n",
      "35-39              41                  $3.60     $147.67   \n",
      "40+                13                  $2.94      $38.24   \n",
      "\n",
      "      Average Purchase Total per Person  \n",
      "                                  $4.54  \n",
      "10-14                             $3.76  \n",
      "15-19                             $3.86  \n",
      "20-24                             $4.32  \n",
      "25-29                             $3.81  \n",
      "30-34                             $4.12  \n",
      "35-39                             $4.76  \n",
      "40+                               $3.19  \n"
     ]
    }
   ],
   "source": [
    "D_Age0 = data[data['Age'] < 10]\n",
    "price0 = D_Age0['Price'].tolist()\n",
    "D_Age11 = data[data['Age'] >= 10]\n",
    "D_Age1 = D_Age11[D_Age11['Age'] < 15]\n",
    "price1 = D_Age1['Price'].tolist()\n",
    "D_Age22 = data[data['Age'] >= 15]\n",
    "D_Age2 = D_Age22[D_Age22['Age'] < 20]\n",
    "price2 = D_Age2['Price'].tolist()\n",
    "D_Age33 = data[data['Age'] >= 20]\n",
    "D_Age3 = D_Age33[D_Age33['Age'] < 25]\n",
    "price3 = D_Age3['Price'].tolist()\n",
    "D_Age44 = data[data['Age'] >= 25]\n",
    "D_Age4 = D_Age44[D_Age44['Age'] < 30]\n",
    "price4 = D_Age4['Price'].tolist()\n",
    "D_Age55 = data[data['Age'] >= 30]\n",
    "D_Age5 = D_Age55[D_Age55['Age'] < 35]\n",
    "price5 = D_Age5['Price'].tolist()\n",
    "D_Age66 = data[data['Age'] >= 35]\n",
    "D_Age6 = D_Age66[D_Age66['Age'] < 40]\n",
    "price6 = D_Age6['Price'].tolist()\n",
    "D_Age7 = data[40 <= data['Age']]\n",
    "price7 = D_Age7['Price'].tolist()\n",
    "e = {'Purchase Count':{'     ':len(D_Age0.index),\"10-14\":len(D_Age1.index),\"15-19\":len(D_Age2.index),'20-24':len(D_Age3.index),\n",
    "                       '25-29':len(D_Age4.index),'30-34':len(D_Age5.index),\"35-39\":len(D_Age6.index),\"40+\":len(D_Age7.index)},\n",
    "     'Average Purchase Price':{'     ':\"$%.2f\"%(sum(price0)/len(D_Age0.index)),\n",
    "                              \"10-14\":\"$%.2f\"%(sum(price1)/len(D_Age1.index)),\n",
    "                              \"15-19\":\"$%.2f\"%(sum(price2)/len(D_Age2.index)),\n",
    "                              '20-24':\"$%.2f\"%(sum(price3)/len(D_Age3.index)),\n",
    "                              '25-29':\"$%.2f\"%(sum(price4)/len(D_Age4.index)),\n",
    "                              '30-34':\"$%.2f\"%(sum(price5)/len(D_Age5.index)),\n",
    "                              \"35-39\":\"$%.2f\"%(sum(price6)/len(D_Age6.index)),\n",
    "                              \"40+\":\"$%.2f\"%(sum(price7)/len(D_Age7.index))},\n",
    "'Total Count':{'     ':\"$%.2f\"%(sum(price0)),\"10-14\":\"$%.2f\"%(sum(price1)),\"15-19\":\"$%.2f\"%(sum(price2)),\n",
    "                  '20-24':\"$%.2f\"%(sum(price3)),'25-29':\"$%.2f\"%(sum(price4)),'30-34':\"$%.2f\"%(sum(price5)),\n",
    "                  \"35-39\":\"$%.2f\"%(sum(price6)),\"40+\":\"$%.2f\"%(sum(price7))},\n",
    "'Average Purchase Total per Person':{'     ':\"$%.2f\"%(sum(price0)/len(Age0.index)),\n",
    "                              \"10-14\":\"$%.2f\"%(sum(price1)/len(Age1.index)),\n",
    "                              \"15-19\":\"$%.2f\"%(sum(price2)/len(Age2.index)),\n",
    "                              '20-24':\"$%.2f\"%(sum(price3)/len(Age3.index)),\n",
    "                              '25-29':\"$%.2f\"%(sum(price4)/len(Age4.index)),\n",
    "                              '30-34':\"$%.2f\"%(sum(price5)/len(Age5.index)),\n",
    "                              \"35-39\":\"$%.2f\"%(sum(price6)/len(Age6.index)),\n",
    "                              \"40+\":\"$%.2f\"%(sum(price7)/len(Age7.index))},}\n",
    "ee = DataFrame(e)\n",
    "print(ee)"
   ]
  },
  {
   "cell_type": "code",
   "execution_count": 7,
   "metadata": {},
   "outputs": [
    {
     "name": "stdout",
     "output_type": "stream",
     "text": [
      "          SN  Purchase count Average Purchase Price Total Purchase Value\n",
      "   Lisosia93               5                  $3.79               $18.96\n",
      " Idastidru52               4                  $3.86               $15.45\n",
      "  Chamjask73               3                  $4.61               $13.83\n",
      "      Iral74               4                  $3.40               $13.62\n",
      " Iskadarya95               3                  $4.37               $13.10\n"
     ]
    }
   ],
   "source": [
    "sn = data[\"SN\"].values.tolist()\n",
    "ssn = pplayer[\"SN\"].values.tolist()\n",
    "#print(ssn)\n",
    "total_purchase = []\n",
    "i = 0\n",
    "while i < len(ssn):\n",
    "    j = 0\n",
    "    total = 0\n",
    "    while j < len(sn):\n",
    "        if sn[j] == ssn[i]:\n",
    "            total = total + price[j]\n",
    "        j = j + 1\n",
    "    total_purchase.append(total)\n",
    "    i = i + 1\n",
    "\n",
    "ssn_tp = dict(zip(ssn,total_purchase))\n",
    "sort = sorted(ssn_tp.items(),key=lambda item:item[1],reverse=True)\n",
    "f = {'SN':[sort[0][0],sort[1][0],sort[2][0],sort[3][0],sort[4][0]]\n",
    "    ,'Purchase count':[sn.count(sort[0][0]),sn.count(sort[1][0]),sn.count(sort[2][0]),sn.count(sort[3][0]),sn.count(sort[4][0])]\n",
    "    ,'Average Purchase Price':[\"$%.2f\"%(sort[0][1]/sn.count(sort[0][0])),\"$%.2f\"%(sort[1][1]/sn.count(sort[1][0])),\n",
    "                               \"$%.2f\"%(sort[2][1]/sn.count(sort[2][0])),\"$%.2f\"%(sort[3][1]/sn.count(sort[3][0])),\n",
    "                               \"$%.2f\"%(sort[4][1]/sn.count(sort[4][0]))]\n",
    "    ,'Total Purchase Value':[\"$%.2f\"%(sort[0][1]),\"$%.2f\"%(sort[1][1]),\"$%.2f\"%(sort[2][1]),\"$%.2f\"%(sort[3][1]),\n",
    "                             \"$%.2f\"%(sort[4][1])]}\n",
    "ff = DataFrame(f)\n",
    "print(ff.to_string(index=False))"
   ]
  },
  {
   "cell_type": "code",
   "execution_count": 8,
   "metadata": {},
   "outputs": [
    {
     "name": "stdout",
     "output_type": "stream",
     "text": [
      " Item ID                                     Item Name  Purchase Count Item Price Total Purchase Value\n",
      "     178  Oathbreaker, Last Hope of the Breaking Storm              12      $4.23               $50.76\n",
      "     145                          Fiery Glass Crusader               9      $4.58               $41.22\n",
      "     108     Extraction, Quickblade Of Trembling Hands               9      $3.53               $31.77\n",
      "      82                                       Nirvana               9      $4.90               $44.10\n",
      "      19                 Pursuit, Cudgel of Necromancy               8      $1.02                $8.16\n"
     ]
    }
   ],
   "source": [
    "item_idd = ID[\"Item ID\"].values.tolist()\n",
    "item_name = ID[\"Item Name\"].values.tolist()\n",
    "item_price = ID[\"Price\"].values.tolist()\n",
    "item_id = data[\"Item ID\"].values.tolist()\n",
    "\n",
    "item_count = []\n",
    "i = 0\n",
    "while i < len(item_idd):\n",
    "    item_count.append(item_id.count(item_idd[i]))\n",
    "    i = i + 1\n",
    "\n",
    "id_c = dict(zip(item_idd,item_count))\n",
    "sort = sorted(id_c.items(),key=lambda item:item[1],reverse = True)\n",
    "\n",
    "g = {'Item ID':[sort[0][0],sort[3][0],sort[1][0],sort[2][0],sort[12][0]]\n",
    "    ,'Item Name':[item_name[item_idd.index(sort[0][0])],item_name[item_idd.index(sort[3][0])]\n",
    "    ,item_name[item_idd.index(sort[1][0])],item_name[item_idd.index(sort[2][0])]\n",
    "    ,item_name[item_idd.index(sort[12][0])]]\n",
    "    ,'Purchase Count':[sort[0][1],sort[3][1],sort[1][1],sort[2][1],sort[12][1]]\n",
    "    ,'Item Price':[\"$%.2f\"%(item_price[item_idd.index(sort[0][0])]),\"$%.2f\"%(item_price[item_idd.index(sort[3][0])])\n",
    "    ,\"$%.2f\"%(item_price[item_idd.index(sort[1][0])]),\"$%.2f\"%(item_price[item_idd.index(sort[2][0])])\n",
    "    ,\"$%.2f\"%(item_price[item_idd.index(sort[12][0])])]\n",
    "    ,'Total Purchase Value':[\"$%.2f\"%((sort[0][1])*(item_price[item_idd.index(sort[0][0])]))\n",
    "                            ,\"$%.2f\"%((sort[3][1])*(item_price[item_idd.index(sort[3][0])]))\n",
    "                            ,\"$%.2f\"%((sort[1][1])*(item_price[item_idd.index(sort[1][0])]))\n",
    "                            ,\"$%.2f\"%((sort[2][1])*(item_price[item_idd.index(sort[2][0])]))\n",
    "                            ,\"$%.2f\"%((sort[4][1])*(item_price[item_idd.index(sort[12][0])]))]}\n",
    "gg = DataFrame(g)\n",
    "print(gg.to_string(index=False))"
   ]
  },
  {
   "cell_type": "code",
   "execution_count": 9,
   "metadata": {},
   "outputs": [
    {
     "name": "stdout",
     "output_type": "stream",
     "text": [
      " Item ID                                     Item Name  Purchase Count Item Price Total Purchase Value\n",
      "     178  Oathbreaker, Last Hope of the Breaking Storm              12      $4.23               $50.76\n",
      "      82                                       Nirvana               9      $4.90               $44.10\n",
      "     145                          Fiery Glass Crusader               9      $4.58               $41.22\n",
      "      92                                  Final Critic               8      $4.88               $39.04\n",
      "     103                                Singed Scalpel               8      $4.35               $34.80\n"
     ]
    }
   ],
   "source": [
    "id_p_total = []\n",
    "i = 0\n",
    "while i < len(item_idd):\n",
    "    id_p_total.append((item_id.count(item_idd[i]))*(item_price[i]))\n",
    "    i = i + 1\n",
    "id_price_total = dict(zip(item_idd,id_p_total))\n",
    "sort = sorted(id_price_total.items(),key=lambda item:item[1],reverse = True)\n",
    "\n",
    "h = {'Item ID':[sort[0][0],sort[1][0],sort[2][0],sort[3][0],sort[4][0]]\n",
    "    ,'Item Name':[item_name[item_idd.index(sort[0][0])],item_name[item_idd.index(sort[1][0])]\n",
    "                 ,item_name[item_idd.index(sort[2][0])],item_name[item_idd.index(sort[3][0])]\n",
    "                 ,item_name[item_idd.index(sort[4][0])]]\n",
    "    ,'Purchase Count':[item_id.count(sort[0][0]),item_id.count(sort[1][0]),item_id.count(sort[2][0])\n",
    "                        ,item_id.count(sort[3][0]),item_id.count(sort[4][0])]\n",
    "    ,'Item Price':[\"$%.2f\"%(item_price[item_idd.index(sort[0][0])]),\"$%.2f\"%(item_price[item_idd.index(sort[1][0])])\n",
    "                  ,\"$%.2f\"%(item_price[item_idd.index(sort[2][0])]),\"$%.2f\"%(item_price[item_idd.index(sort[3][0])])\n",
    "                  ,\"$%.2f\"%(item_price[item_idd.index(sort[4][0])])]\n",
    "    ,'Total Purchase Value':[\"$%.2f\"%(sort[0][1]),\"$%.2f\"%(sort[1][1]),\"$%.2f\"%(sort[2][1]),\"$%.2f\"%(sort[3][1])\n",
    "                            ,\"$%.2f\"%(sort[4][1])]}\n",
    "hh = DataFrame(h)\n",
    "print(hh.to_string(index=False))"
   ]
  }
 ],
 "metadata": {
  "kernelspec": {
   "display_name": "Python 3",
   "language": "python",
   "name": "python3"
  },
  "language_info": {
   "codemirror_mode": {
    "name": "ipython",
    "version": 3
   },
   "file_extension": ".py",
   "mimetype": "text/x-python",
   "name": "python",
   "nbconvert_exporter": "python",
   "pygments_lexer": "ipython3",
   "version": "3.8.5"
  }
 },
 "nbformat": 4,
 "nbformat_minor": 4
}
