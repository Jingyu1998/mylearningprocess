{
 "cells": [
  {
   "cell_type": "code",
   "execution_count": 1,
   "metadata": {},
   "outputs": [
    {
     "name": "stdout",
     "output_type": "stream",
     "text": [
      "Top-3 movies with the highest ratings in 2016 is Dangal,Kimi no na wa,Koe no katachi\n"
     ]
    }
   ],
   "source": [
    "import pandas as pd\n",
    "import numpy as np\n",
    "data = pd.read_csv('IMDB-Movie-Data.csv') #輸入原始資料\n",
    "#print(data)\n",
    "a = data.loc[data['Year'] == 2016] #從原始資料取出 column Year == 2016 的 所有 row\n",
    "#print(a)\n",
    "a_sort = a.sort_values(by = 'Rating',ascending=False) #將取出後的row，對Rating排序\n",
    "#print(a_sort)\n",
    "print(\"Top-3 movies with the highest ratings in 2016 is Dangal,Kimi no na wa,Koe no katachi\")"
   ]
  },
  {
   "cell_type": "code",
   "execution_count": 2,
   "metadata": {},
   "outputs": [
    {
     "name": "stdout",
     "output_type": "stream",
     "text": [
      "The actor generating the highest average revenue is Daisy Ridley and John Boyega\n"
     ]
    }
   ],
   "source": [
    "b = data.dropna(axis = 0, subset = ['Revenue (Millions)'] )\n",
    "aa = b.Actors.str.split('|')\n",
    "allactor = aa.values.tolist()\n",
    "i = 0\n",
    "while i < len(allactor):\n",
    "    j = 0\n",
    "    while j < len(allactor[i]):\n",
    "        allactor[i][j] = allactor[i][j].lstrip(\" \")\n",
    "        j = j + 1\n",
    "    i = i + 1\n",
    "#print(allactor)\n",
    "\n",
    "i = 0\n",
    "allactorr = []\n",
    "while i < len(allactor):\n",
    "    j = 0\n",
    "    while j < len(allactor[i]):\n",
    "        if allactor[i][j] not in allactorr:\n",
    "            allactorr.append(allactor[i][j])\n",
    "        j = j + 1\n",
    "    i = i + 1\n",
    "#print(len(allactorr))\n",
    "#----------------------------------根據迭代跑出的錯誤，修正list裡有'?'的元素\n",
    "#print(allactorr[1262])\n",
    "allactorr[1262] = 'scar Jaenada'\n",
    "#print(allactorr[1438])\n",
    "allactorr[1438] = 'lafur Darri'\n",
    "#print(allactorr[1026])\n",
    "allactorr[1026] = 'sugi'\n",
    "#------------------------------------------------------------\n",
    "average = []\n",
    "i = 0\n",
    "while i < len(allactorr):\n",
    "    value = b[b['Actors'].str.contains(allactorr[i])]['Revenue (Millions)'].values.tolist()\n",
    "    average.append(sum(value)/len(value))\n",
    "    i = i + 1\n",
    "#print(average)\n",
    "#print(allactorr)\n",
    "average_actor = dict(zip(allactorr,average))\n",
    "#print(sorted(average_actor.items(),key=lambda item:item[1],reverse=True))\n",
    "print(\"The actor generating the highest average revenue is Daisy Ridley and John Boyega\")"
   ]
  },
  {
   "cell_type": "code",
   "execution_count": 3,
   "metadata": {},
   "outputs": [
    {
     "name": "stdout",
     "output_type": "stream",
     "text": [
      "The average rating of Emma Watson’s movies is 7.175\n"
     ]
    }
   ],
   "source": [
    "emma_rating = data[data['Actors'].str.contains('Emma Watson')]['Rating'].values.tolist()\n",
    "print(\"The average rating of Emma Watson’s movies is %.3f\"%(sum(emma_rating)/len(emma_rating)))"
   ]
  },
  {
   "cell_type": "code",
   "execution_count": 4,
   "metadata": {},
   "outputs": [
    {
     "name": "stdout",
     "output_type": "stream",
     "text": [
      "Top-3 directors who collaborate with the most actors is Ridley Scott, M. Night Shyamalan, Danny Boyle, Paul W.S. Anderson\n"
     ]
    }
   ],
   "source": [
    "director = data['Director'].values.tolist()\n",
    "#print(director)\n",
    "directorr = []\n",
    "i = 0\n",
    "while i < len(director):\n",
    "    if director[i] not in directorr:\n",
    "        directorr.append(director[i])\n",
    "    i = i + 1\n",
    "#print(directorr)\n",
    "\n",
    "actor_director = []\n",
    "i = 0\n",
    "while i < len(directorr):\n",
    "    actor = data[data['Director'].str.fullmatch(directorr[i])]['Actors'].values.tolist()\n",
    "    actor_director.append(actor)\n",
    "    i = i + 1\n",
    "#print(actor_director)\n",
    "\n",
    "i = 0\n",
    "actor_directorr = []\n",
    "while i < len(actor_director):\n",
    "    j = 0\n",
    "    actor_directorrr = []\n",
    "    while j < len(actor_director[i]):\n",
    "        actor_directorrr.extend(actor_director[i][j].split('|'))\n",
    "        j = j + 1\n",
    "    actor_directorr.append(actor_directorrr)\n",
    "    i = i + 1\n",
    "\n",
    "i = 0\n",
    "while i < len(actor_directorr):\n",
    "    j = 0\n",
    "    while j < len(actor_directorr[i]):\n",
    "        actor_directorr[i][j] = actor_directorr[i][j].lstrip(\" \")\n",
    "        j = j + 1\n",
    "    i = i + 1\n",
    "#print(actor_directorr)\n",
    "#---------------------移除list的重複項\n",
    "i = 0\n",
    "aactor_director = []\n",
    "while i < len(actor_directorr):\n",
    "    j = 0\n",
    "    aactor_directorr = []\n",
    "    while j < len(actor_directorr[i]):\n",
    "        if actor_directorr[i][j] not in aactor_directorr:\n",
    "            aactor_directorr.append(actor_directorr[i][j])\n",
    "        j = j + 1\n",
    "    aactor_director.append(aactor_directorr)\n",
    "    i = i + 1\n",
    "#print(aactor_director)\n",
    "#------------------------算每一位的導演合作過的演員數\n",
    "i = 0\n",
    "actor_count = []\n",
    "while i < len(aactor_director):\n",
    "    actor_count.append(len(aactor_director[i]))\n",
    "    i = i + 1\n",
    "#print(actor_count)\n",
    "director_actor_count = dict(zip(directorr,actor_count))\n",
    "#print(sorted(director_actor_count.items(),key=lambda item:item[1],reverse=True))\n",
    "print(\"Top-3 directors who collaborate with the most actors is Ridley Scott, M. Night Shyamalan, Danny Boyle, Paul W.S. Anderson\")"
   ]
  },
  {
   "cell_type": "code",
   "execution_count": 5,
   "metadata": {},
   "outputs": [
    {
     "name": "stdout",
     "output_type": "stream",
     "text": [
      "Top-2 actors playing in the most genres of movies is Brad Pitt, Hugh Jackman, Scarlett Johansson, Amy Adams, Chloe Grace Moretz, Johnny Depp\n"
     ]
    }
   ],
   "source": [
    "aaa = data.Actors.str.split('|')\n",
    "fullactor = aaa.values.tolist()\n",
    "i = 0\n",
    "while i < len(fullactor):\n",
    "    j = 0\n",
    "    while j < len(fullactor[i]):\n",
    "        fullactor[i][j] = fullactor[i][j].lstrip(\" \")\n",
    "        j = j + 1\n",
    "    i = i + 1\n",
    "#print(fullactor)\n",
    "\n",
    "i = 0\n",
    "fullactorr = []\n",
    "while i < len(fullactor):\n",
    "    j = 0\n",
    "    while j < len(fullactor[i]):\n",
    "        if fullactor[i][j] not in fullactorr:\n",
    "            fullactorr.append(fullactor[i][j])\n",
    "        j = j + 1\n",
    "    i = i + 1\n",
    "#print(len(fullactorr))\n",
    "#----------------------------------根據迭代跑出的錯誤，修正fullactorr裡有'?'的元素\n",
    "#print(fullactorr[1380])\n",
    "fullactorr[1380] = 'scar Jaenada'\n",
    "#print(fullactorr[1601])\n",
    "fullactorr[1601] = 'lafur Darri'\n",
    "#------------------------------------------------------------\n",
    "#存每一位演員演過電影的類型\n",
    "i = 0\n",
    "genree = []\n",
    "while i < len(fullactorr):\n",
    "    genre = data[data['Actors'].str.contains(fullactorr[i])]['Genre'].values.tolist()\n",
    "    genree.append(genre)\n",
    "    i = i + 1\n",
    "#print(genree)\n",
    "\n",
    "i = 0\n",
    "actor_genre = []\n",
    "while i < len(genree):\n",
    "    j = 0\n",
    "    actor_genree = []\n",
    "    while j < len(genree[i]):\n",
    "        actor_genree.extend(genree[i][j].split('|'))\n",
    "        j = j + 1\n",
    "    actor_genre.append(actor_genree)\n",
    "    i = i + 1\n",
    "#print(actor_genre)\n",
    "#---------------------移除actor_genre的重複項\n",
    "i = 0\n",
    "aactor_genre = []\n",
    "while i < len(actor_genre):\n",
    "    j = 0\n",
    "    aactor_genree = []\n",
    "    while j < len(actor_genre[i]):\n",
    "        if actor_genre[i][j] not in aactor_genree:\n",
    "            aactor_genree.append(actor_genre[i][j])\n",
    "        j = j + 1\n",
    "    aactor_genre.append(aactor_genree)\n",
    "    i = i + 1\n",
    "#print(aactor_genre)\n",
    "#------------------------算每一位的演員演過的電影類型\n",
    "i = 0\n",
    "actor_genre_count = []\n",
    "while i < len(aactor_genre):\n",
    "    actor_genre_count.append(len(aactor_genre[i]))\n",
    "    i = i + 1\n",
    "#print(actor_genre_count)\n",
    "a_g_c = dict(zip(fullactorr,actor_genre_count))\n",
    "#print(a_g_c)\n",
    "#print(sorted(a_g_c.items(),key=lambda item:item[1],reverse=True))\n",
    "print(\"Top-2 actors playing in the most genres of movies is Brad Pitt, Hugh Jackman, Scarlett Johansson, Amy Adams, Chloe Grace Moretz, Johnny Depp\")"
   ]
  },
  {
   "cell_type": "code",
   "execution_count": 6,
   "metadata": {},
   "outputs": [
    {
     "name": "stdout",
     "output_type": "stream",
     "text": [
      "Top-3 actors whose movies lead to the largest maximum gap of years is Christian Bale, Anne Hathaway, Hugh Jackman, Scarlett Johansson, Matt Damon, Mark Wahlberg, Brad PittChristopher Plummer, Tom Hanks, Bryce Dallas Howard, Chiwetel Ejiofor, Ben KingsleyGerard Butler, Eva Green, Judi Dench, Will Smith, Jennifer Connelly, Tom Cruise, Emily BluntKevin Spacey, Samuel L. Jackson, Steve Carell, Edward Norton, Will Ferrell, Denzel Washington, Russell Crowe, Toni Collette, Meryl Streep, Morgan Freeman,Dominic West, Owen Wilson, Michelle Monaghan, Jessica Biel, Dustin Hoffman, Ben Whishaw,Paula Patton, Abbie Cornish, Johnny Depp, Jack Davenport, Rachel Weisz, Ellen Burstyn,Kang-ho Song, Jeremy Irons, Marion Cotillard, Kirsten Dunst, Jennifer Aniston, Justin Theroux,Maya Rudolph, Kate Bosworth, Audrey Tautou, Luke Wilson, Sacha Baron Cohen, Bob Balaban\n"
     ]
    }
   ],
   "source": [
    "#存每一位演員演過電影的年份\n",
    "i = 0\n",
    "yearr = []\n",
    "while i < len(fullactorr):\n",
    "    year = data[data['Actors'].str.contains(fullactorr[i])]['Year'].values.tolist()\n",
    "    yearr.append(year)\n",
    "    i = i + 1\n",
    "#print(yearr)\n",
    "\n",
    "#排序年份\n",
    "i = 0\n",
    "actor_year_gap = []\n",
    "while i < len(yearr):\n",
    "    yearr[i] = sorted(yearr[i])\n",
    "    if len(yearr[i]) != 0:\n",
    "        actor_year_gap.append(int(yearr[i][-1])-int(yearr[i][0]))\n",
    "    else:\n",
    "        actor_year_gap.append(0)\n",
    "    i = i + 1\n",
    "#print(actor_year_gap)\n",
    "a_y_g = dict(zip(fullactorr,actor_year_gap))\n",
    "#print(a_y_g)\n",
    "#print(sorted(a_y_g.items(),key=lambda item:item[1],reverse=True))\n",
    "print(\"Top-3 actors whose movies lead to the largest maximum gap of years is Christian Bale, \"\n",
    "      \"Anne Hathaway, Hugh Jackman, Scarlett Johansson, Matt Damon, Mark Wahlberg, Brad Pitt\"\n",
    "      \"Christopher Plummer, Tom Hanks, Bryce Dallas Howard, Chiwetel Ejiofor, Ben Kingsley\"\n",
    "      \"Gerard Butler, Eva Green, Judi Dench, Will Smith, Jennifer Connelly, Tom Cruise, Emily Blunt\"\n",
    "      \"Kevin Spacey, Samuel L. Jackson, Steve Carell, Edward Norton, Will Ferrell, \"\n",
    "      \"Denzel Washington, Russell Crowe, Toni Collette, Meryl Streep, Morgan Freeman,\"\n",
    "      \"Dominic West, Owen Wilson, Michelle Monaghan, Jessica Biel, Dustin Hoffman, Ben Whishaw,\"\n",
    "      \"Paula Patton, Abbie Cornish, Johnny Depp, Jack Davenport, Rachel Weisz, Ellen Burstyn,\"\n",
    "      \"Kang-ho Song, Jeremy Irons, Marion Cotillard, Kirsten Dunst, Jennifer Aniston, Justin Theroux,\"\n",
    "      \"Maya Rudolph, Kate Bosworth, Audrey Tautou, Luke Wilson, Sacha Baron Cohen, Bob Balaban\")"
   ]
  },
  {
   "cell_type": "code",
   "execution_count": 7,
   "metadata": {},
   "outputs": [
    {
     "name": "stdout",
     "output_type": "stream",
     "text": [
      "all actors who collaborate with Johnny Depp in direct and indirect ways are  Helena Bonham Carter,Alan Rickman,Timothy Spall,Orlando Bloom,Keira Knightley,Jack Davenport,Geoffrey Rush,Christian Bale,Christian Stolte,Jason Clarke,Benedict Cumberbatch,Dakota Johnson,Joel Edgerton,Penelope Cruz,Ian McShane,Mia Wasikowska,Anne Hathaway,Armie Hammer,William Fichtner,Tom Wilkinson,Rebecca Hall,Morgan Freeman,Cillian Murphy,Michelle Pfeiffer,Eva Green,Lily-Rose Depp,Harley Quinn Smith,Adam Brody,Colin Firth,Derek Jacobi,Lily James,Cate Blanchett,Richard Madden,Ben Whishaw,Dustin Hoffman,Francesc Albiol,Helen Mirren,Aaron Paul,Barkhad Abdi,Rachel Weisz,Andrew Scott,Matthew Goode,Allen Leech,James McAvoy,Brenda Blethyn,Saoirse Ronan,Mark Ruffalo,Adam Levine,Hailee Steinfeld,Jude Law,Aaron Taylor-Johnson,Matthew Macfadyen,Chris Pine,Kevin Costner,Kenneth Branagh,David Oyelowo,Rosamund Pike,Tom Felton,Jim Sturgess,Sylvia Hoeks,Donald Sutherland,Nicholas Hope,Sam Neill,Ewen Leslie,Heath Ledger,Aaron Eckhart,Michael Caine,Hugh Jackman,Scarlett Johansson,Tom Hardy,Gary Oldman,Steve Carell,Ryan Gosling,Brad Pitt,Mark Wahlberg,Amy Adams,Melissa Leo,Bradley Cooper,Jennifer Lawrence,Steve Zahn,Jeremy Davies,Zach Grenier,Casey Affleck,Zoe Saldana,Woody Harrelson,Sam Worthington,Anton Yelchin,Moon Bloodgood,Ben Kingsley,Sigourney Weaver,Oscar Isaac,Charlotte Le Bon,Daniel Gimenez Cacho,Natalie Portman,Brian Dennehy,Shia LaBeouf,Guy Pearce,Ang Phula Sherpa,Thomas M. Wright,Martin Henderson,Clive Owen,Catherine Keener,Liana Liberato,Arnold Schwarzenegger,Emilia Clarke,Jai Courtney,Channing Tatum,Jamie Foxx,Maggie Gyllenhaal,Zachary Quinto,Chiwetel Ejiofor,Rachel McAdams,Benedict Wong,Tilda Swinton,Matthias Schoenaerts,Ralph Fiennes,Rebel Wilson,Leslie Mann,Alison Brie,Jamie Dornan,Jennifer Ehle,Eloise Mumford,Nick Nolte,Jennifer Morrison,Jessica Chastain,Chris Pratt,Mark Strong,Leonardo DiCaprio,Carey Mulligan,Tobey Maguire,Ruth Negga,Will Dalton,Dean Mumford,Jason Bateman,Allison Tolman,Michael Shannon,Kirsten Dunst,Adam Driver,Woody Allen,Jesse Eisenberg,Ellen Page,Michael Fassbender,Cameron Diaz,Javier Bardem,Ben Stiller,Owen Wilson,Will Ferrell,Jack Black,Angelina Jolie,Jason Statham,Joan Allen,Tyrese Gibson,Dwayne Johnson,John Hurt,Joseph Fiennes,Jamie Bell,Su Elliot,Tom Hiddleston,Charlie Hunnam,Matthew McConaughey,Mackenzie Foy,Russell Crowe,Amanda Seyfried,Robert De Niro,Rene Russo,Anders Holm,Patricia Clarkson,Tom Mison,George Lopez,Karen Disher,Meryl Streep,Adrian Grenier,Emily Blunt,Jake Gyllenhaal,Judy Greer,Oliver Platt,Jason Sudeikis,Austin Stowell,Tim Blake Nelson,Kate Hudson,Candice Bergen,Bryan Greenberg,Henry Cavill,Alicia Vikander,Elizabeth Debicki,Sharlto Copley,Brie Larson,Annabelle Wallis,Tom Cullen,Clint Dyer,Jon Voight,Lia Marie Johnson,Gabriel Basso,Megan Fox,Will Arnett,Noel Fisher,Gerard Butler,Idris Elba,Thandie Newton,Jessica Brown Findlay,Jeremy Irvine,Ben Affleck,Jon Hamm,Jeremy Renner,Christopher Evan Welch,Michael C. Hall,Tracy Letts,Maria Dizzia,Eric Bana,Jim Broadbent,Ciaran Hinds,Josh Hartnett,Lucy Liu,Ed Harris,Michelle Monaghan,Bruce Willis,Mary-Louise Parker,Tom Cruise,Andrea Riseborough,Olga Kurylenko,Terence Stamp,Angela Bassett,Min-sik Choi,Amr Waked,Rose Byrne,Chris Evans,Michelle Yeoh,Brian Caspe,Karel Hermanek Jr.,Chris Hemsworth,Brendan Gleeson,Justin Timberlake,Olivia Wilde,John Travolta,Queen Latifah,Nikki Blonsky,Dianna Agron,John D'Leo,Daniel Craig,Judi Dench,Jeffrey Wright,Asa Butterfield,Samuel L. Jackson,Sullivan Stapleton,Lena Headey,Hans Matheson,Johnny Simmons,Taron Egerton,Nicole Kidman,Laura Linney,Reese Witherspoon,Alessandro Nivola,James Hamrick,Christopher Plummer,Lois van Wijk,Sam Riley,Jack Huston,Bella Heathcote,Jay Baruchel,Craig Ferguson,Julia Ormond,Gael Garcia Bernal,Mohamed Akhzam,Ian McKellen,Martin Freeman,Richard Armitage,Alec Baldwin,Peter Sarsgaard,Sally Hawkins,Rooney Mara,Sarah Paulson,Kyle Chandler,Vicky Krieps,Max von Sydow,Harrison Ford,Karen Allen,Kelly Reilly,Eddie Redmayne,Amber Heard,Tom Hanks,Sarita Choudhury,Alexander Black,Jon Favreau,Robert Downey Jr.,Bryan Cranston,Ryan Reynolds,Daniel Bruhl,Katie Holmes,Billy Crystal,John Goodman,Steve Buscemi,Dominic Cooper,Imogen Poots,Scott Mescudi,Anthony Mackie,Aiden Longworth,Sarah Gadon,Barkhad Abdirahman,Harvey Keitel,Jane Fonda,Sean Patrick Thomas,Ellen Burstyn,Florence Clery,Colin Farrell,Jessica Barden,Olivia Colman,Edward Norton,Scott Glenn,Susan Sarandon,James Franco,Michelle Williams,Mila Kunis,Fionn O'Shea,Nicholas Galitzine,Moe Dunford,Ruth Wilson,Daniel Radcliffe,Natalie Martinez,Patrick Stewart,Kevin Bacon,Anya Taylor-Joy,Haley Lu Richardson,Jessica Sula,Nicholas Hoult,Eddie Marsan,Rosario Dawson,Vincent Cassel,Danny Sapani,Emory Cohen,Domhnall Gleeson,Max Irons,Jake Abel,Diane Kruger,Emily Mortimer,Michael Keaton,Liev Schreiber,Anthony Edwards,Common,Dave Franco,Jeff Bridges,Matt Damon,Josh Brolin,Blake Jenner,Kyra Sedgwick,Abigail Breslin,Anna Kendrick,Brittany Snow,Connie Nielsen,Jared Harris,Melissa McCarthy,Kate Winslet,Gwyneth Paltrow,Nicolas Cage,Chloe Grace Moretz,Garrett M. Brown,Christopher Mintz-Plasse,Jim Carrey,Taylor Kitsch,Blake Lively,Benicio Del Toro,Elizabeth Olsen,Ken Watanabe,Logan Lerman,Ray Stevenson,Milla Jovovich,Simon Pegg,Leonard Nimoy,Ben Foster,Gil Birmingham,Karl Urban,Denzel Washington,Ethan Suplee,Til Schweiger,Taraji P. Henson,Octavia Spencer,Janelle Monae,Demi Moore,William Hurt,Dane Cook,Gal Gadot,Essie Davis,Julian Barratt,Carmen Ejogo,Tim Roth,Lorraine Toussaint,Madina Nalwanga,Lupita Nyong'o,Martin Kabanza,Neil Patrick Harris,Tyler Perry,Anthony Hopkins,David Strathairn,Richard Jenkins,Werner Herzog,Nick Frost,Liam Neeson,Evan Rachel Wood,Joe Anderson,Dana Fuchs,Kate Bosworth,Kevin Spacey,Aaron Yoo,Alexis Dziena,Julian Dennison,Rima Te Wiata,Rachel House,Emily Browning,Rachael Blake,Bridgette Barrett,Lily Cole,Andrew Garfield,Valerie Mahaffey,Miles Teller,Katey Sagal,Julianne Moore,Larry the Cable Guy,Viola Davis,Tom Costello,Jo Hartley,Evangeline Lilly,Dakota Goyo,Dev Patel,Danny Huston,Will Yun Lee,Tao Okamoto,Rila Fukushima,Halle Berry,Famke Janssen,Shea Adams,Eddie Baroo,Elijah Wood,Brittany Murphy,Robin Williams,Levi Miller,Garrett Hedlund,Joaquin Phoenix,Sebastian Stan,Robert Redford,Seth MacFarlane,Joseph Gordon-Levitt,Tony Danza,Jeremy McWilliams,Lynsey Taylor Mackay,Dougie McConnell,Charlize Theron,Zoe Kravitz,Will Poulter,Kelly Adams,Luing Andrews,Katy Barker,Noomi Rapace,James Gandolfini,Paul Anderson,Joel Kinnaman,Keri Russell,Andy Serkis,Kodi Smit-McPhee,Abbie Cornish,Kate Mara,Toni Collette,Greg Kinnear,Jason Segel,Russell Brand,Julie Andrews,Emma Stone,Kristen Wiig,Benjamin Bratt,Miranda Cosgrove,Kristen Stewart,Jennifer Garner,Ed Oxenbould,Dylan Minnette,Rosemarie DeWitt,J.K. Simmons,Albert Brooks,Angourie Rice,Matt Bomer,John Doman,Faith Wladyka,Eva Mendes,Craig Van Hook,Sean Penn,Giovanni Ribisi,Frank Langella,Lily Rabe,Eli Roth,Melanie Laurent,Michael Kenneth Williams,Michael Pena,Robin Wright,Jonah Hill,Philip Seymour Hoffman,Sam Shepard,Tina Fey,Marion Cotillard,Vincent Ebrahim,Mireille Enos,Daniella Kertesz,James Badge Dale,George Clooney,Michael Mantell,Hunter McCracken,Jack Nicholson,Emile Hirsch,Kurt Russell,Douglas M. Griffin,James DuMont,Rhona Mitra,Danny Glover,Joel McHale,Derek Jeter,Tony Shalhoub,Jessica Barth,Linda Cardellini,Thomas Haden Church,Jessica Lange,Nicola Peltz,Jack Reynor,Stanley Tucci,Zooey Deschanel,John Leguizamo,Ashlyn Sanchez,Forest Whitaker,Michael Stuhlbarg,Diane Lane,James Marsden,Patrick Dempsey,Jesse Plemons,Shailene Woodley,Vin Diesel,Zach Galifianakis,Justin Bartha,Ed Helms,Jacki Weaver,Anna Friel,Sienna Miller,Kyle Gallner,Cole Konis,Jessica Biel,Edgar Ramirez,Riccardo Scamarcio,Vinnie Jones,Leslie Bibb,Brooke Shields,Josh Hutcherson,Liam Hemsworth,John Hawkes,Garret Dillahunt,Isaiah Stone,Michael Sheen,Laurence Fishburne,Jared Leto,Zachary Gordon,Robert Capron,Devon Bostick,Rachael Harris,Lucas Hedges,Michelle Rodriguez,Diego Luna,Ron Perlman,Tommy Lee Jones,Will Smith,Michael Ealy,Sam Rockwell,Christopher Walken,Luke Bracey,Teresa Palmer,Elizabeth Banks,Mandy Gonzalez,Jason Flemyng,Alia Shawkat,Neel Sethi,Bill Murray,Christopher Lee,Gemma Arterton,Alfred Molina,Sacha Baron Cohen,Anna Faris,John C. Reilly,Felicity Jones,Lewis MacDougall,Toby Kebbell,Anthony LaPaglia,Daisy Ridley,John Boyega,Sonoya Mizuno,Guillaume Baillargeon,Emilie Leclerc,Romain Duris,Jalil Lespert,Camille Cottin,Tom Hughes,Oona Chaplin,Barry Ward,Winona Ryder,Stellan Skarsgard,Greta Gerwig,Billy Crudup,Ashton Kutcher,Kevin Kline,Cary Elwes,Danny McBride,Rasmus Hardiker,Josh Duhamel,Sasha Lane,Riley Keough,McCaul Lombardi,Charlotte Gainsbourg,Stacy Martin,David Morse,Carrie-Anne Moss,Sarah Roemer,Michael Chiklis,Rosie Huntington-Whiteley,Brian Geraghty,Don Cheadle,Dakota Fanning,Kit Harington,Carice van Houten,Kylie Rogers,Brighton Sharbino,Jodie Foster,Vince Vaughn,Marcia Gay Harden,Sylvester Stallone,50 Cent,Vincent D'Onofrio,Sam Claflin,Janet McTeer,Charles Dance,Theo James,Ice Cube,Nick Offerman,Jenna Dewan Tatum,Damaine Radcliff,De'Shawn Washington,Amanda Bynes,Laura Ramsey,Alex Pettyfer,Olivia Munn,Dennis Quaid,Marlon Wayans,Adewale Akinnuoye-Agbaje,Adrianne Palicki,Byung-hun Lee,Joe Manganiello,Adam Rodriguez,Sean Bean,Christoph Waltz,Kerry Washington,Colm Meaney,Paul Giamatti,Quvenzhane Wallis,Daniel Olbrychski,Anika Noni Rose,Joseph Mawle,Julia Roberts,Dean Norris,John Cusack,Amanda Peet,Bill Nighy,Lydia Wilson,Kathy Bates,Kurt Fuller,Oona Laurence,Ezra Miller,Jasper Newell,F. Murray Abraham,Mathieu Amalric,Adrien Brody,Art Parkinson,Lea Seydoux,Alden Ehrenreich,Anna Camp,Freddie Crowder,Seth Rogen,Katherine Heigl,Paul Rudd,Zac Efron,Matthew Perry,Thomas Lennon,Maude Apatow,Iris Apatow,Kate Upton,Nikolaj Coster-Waldau,Danny DeVito,Edie Falco,Willem Dafoe,Gretchen Mol,Jordan Carlos,Margarita Levieva,Kevin Hart,T.I.,Jason O'Mara,Michael McElhatton,Cynthia Nixon,Duncan Duff,Keith Carradine,Gugu Mbatha-Raw,Megan Charpentier,Isabelle Nelisse,Bryce Dallas Howard,Ty Simpkins,Ethan Hawke,Golshifteh Farahani,Margot Robbie,Djimon Hounsou,Jennifer Connelly,Kagiso Kuypers,Christopher Fitzgerald,Jonathan Roumie,Lucy Walters,Topher Grace,Ginnifer Goodwin,Jenny Slate,Michael Cera,Vera Farmiga,Charlie Day,Steve Wiebe,Jae Head,Jennifer Aniston,T.J. Miller,Malin Akerman,Kiefer Sutherland,Alexander Skarsgard,Jason Schwartzman,Rip Torn,Judy Davis,Nellie,Rizwan Manji,Tadanobu Asano,Zoe Kazan,Megan Park,Rainn Wilson,Liv Tyler,Max Minghella,Callum Keith Rennie,Jeff Daniels,Logan Marshall-Green,Jack Madigan,Frank Madigan,Dominic West,Andreas Wisniewski,Jeremy Irons,Matthew Morrison,J. Todd Smith,Rob Corddry,Ellie Kemper,Naomie Harris,Jasmine Trinca,Adele Exarchopoulos,Jon Daly,Kathryn Hahn,Jeff Kahn,Dick Van Dyke,Jerry Stiller,Bonnie Hunt,Paul Newman,Lake Bell,Pierce Brosnan,Chatchawai Kamonsakpitak,Katherine Waterston,Aasif Mandvi,Ross Kimball,Mary Steenburgen,Gary Cole,Odeya Rush,Ryan Lee,Colm Feore,Amy Ryan,Gattlin Griffith,Elle Fanning,Lesley Manville,Ray Winstone,Crispin Glover,Paul Walker,Jet Li,Dolph Lundgren,Antonio Banderas,Jessica Alba,Julia Stiles,Richard Gere,Cary-Hiroyuki Tagawa,Auli'i Cravalho,Temuera Morrison,Jordana Brewster,Billy Bob Thornton,Maggie Grace,Mauricio Lopez,Danielle Nicolet,Carla Gugino,Alexandra Daddario,Colton Haynes,Mickey Rourke,Stephen Dorff,Hayden Christensen,Rachel Bilson,Michael B. Jordan,Luke Evans,Robert Pattinson,Tom Holland,Rinko Kikuchi,Mahershala Ali,Corey Stoll,Naomi Watts,Ryoko Seta,Albert Finney,Emma Watson,Usher Raymond,Ruben Blades,Zoey Deutch,Aubrey Plaza,Bill Paxton,Riz Ahmed,Jenna Elfman,Hugh Grant,Simon Helberg,Rebecca Ferguson,Brenton Thwaites,Taylor Swift,Kevin Connolly,Jerry Ferrara,Kevin Dillon,Jon Bernthal,Paul Dano,Lisa Thoreson,Florence Kastriner,Haley Bennett,Justin Theroux,America Ferrera,Chris Cooper,Judah Lewis,Isabella Rossellini,Dan Stevens,Kerry Bishe,Charlie Heaton,Jacob Tremblay,Emma Roberts,Josh Gad,Maya Rudolph,Ben Barnes,David James,Jason Cope,Nathalie Boltt,Danila Kozlovsky,Alice Braga,Sean Bridgers,Wendy Crewson,Amy Schumer,Bill Hader,Colin Quinn,Ward Horton,Alfre Woodard,Tony Amendola,Logan Paul,Peyton List,Calum Worthy,Nick Robinson,Moises Arias,Keanu Reeves,Renee Zellweger,David Wenham,Hilary Swank,Harry Connick Jr.,Lisa Kudrow,Bree Turner,Eric Winter,Chadwick Boseman,Jaden Smith,Brian Howe,Hermione Corfield,Addison Timlin,Joely Richardson,Alan Arkin,Chris Messina,Sandra Bullock,Pierre Coffin,Isla Fisher,Paula Patton,Robert Carlyle,Harold Perrineau,Sam Trammell,Aidan Turner,Gemma Jones,Sally Phillips,Daniel Day-Lewis,Martin Stringer,Elizabeth Berrington,Orto Ignatiussen,Ving Rhames,Adam Sandler,Kevin James,Peter Dinklage,Jared Gilman,Kara Hayward,Justin Long,Timothy Olyphant,Maggie Q,Cobie Smulders,Aldis Hodge,Robert Knepper,Julianne Hough,Diego Boneta,Terry Crews,Patrick Wilson,Lin Shaye,Hugo Weaving,Hayley Atwell,Alice Eve,Emma Fitzpatrick,John Cullum,Ari Graynor,Blythe Danner,Brendan Fraser,Maria Bello,Alexandra Maria Lara,Kristen Connolly,Anna Hutchison,Fran Kranz,Wei Tang,Leehom Wang,Isabel Lucas,Josh Peck,Rupert Grint,Bruce Boxleitner,Dakota Blue Richards,Ben Walker,Bob Balaban,David Thewlis,Rupert Friend,Zac Mattoon O'Brien,Jennifer Jason Leigh,Walton Goggins,Mary McCormack,Paul Birchard,Julianna Margulies,Nathan Phillips,Rachel Blanchard,Olivia Thirlby,Rachel Wood,Richard Dreyfuss,Max Burkholder,Adelaide Kane,Gabriel Luna,Clifton Collins Jr.,David Acord,Sunny Pawar,Brooklyn Decker,Laura Dern,Gaby Hoffmann,Michiel Huisman,Edward Asner,Jordan Nagai,John Ratzenberger,Scott Eastwood,Britt Robertson,Alan Alda,Rodrigo Santoro,Nazanin Boniadi,Mike Vogel,Ken Stott,Charlie Cox,Claire Danes,Audrey Tautou,Jean Reno,Arnaud Viard,Linda Gegusch,Isabelle Fuhrman,CCH Pounder,Kari Matchett,Zachary Bennett,AJ Michalka,Joel Courtney,T.R. Knight,Nicole Beharie,Kathy Baker,Tom Prior,Sophie Perry,Alison Sudol,Dan Fogler,Sean Faris,Cam Gigandet,Tim Allen,Joan Cusack,Ned Beatty,Mark Rylance,Emma Thompson,Annie Rose Buckley,Irrfan Khan,Joey Lauren Adams,Terrence Howard,Robert Duvall,Beverly D'Angelo,Bokeem Woodbine,Kate Beckinsale,Morena Baccarin,Ed Skrein,Craig T. Nelson,Michael Nyqvist,Richenda Carey,Nadine Velazquez,Mary Elizabeth Winstead,John Gallagher Jr.,Travis Fimmel,Jamal Woolard,Derek Luke,Momo Dione,Tijuana Ricks,Sue Dahlman,Oprah Winfrey,Hayden Panettiere,Catalina Sandino Moreno,Jeffrey Dean Morgan,Rufus Sewell,Imelda Staunton,Freida Pinto,Karin Konoval,Amber Tamblyn,Sean Bott,Randall Park,Lizzy Caplan,Tangie Ambrose,Cedric the Entertainer,Nat Wolff,Selena Gomez,Kristin Scott Thomas,Eric Godon,Kristen Bell,Christina Applegate,Paula Prentiss,Lucy Boynton,Michael Gambon,Antonia Ribero,Juno Temple,Ralph Ineson,Kate Dickie,Julian Richings,Rose Leslie,Michael Yare,John Malkovich,Analeigh Tipton,Christina Hendricks,Vernetta Lopez,Scott Lawrence,Zoe Bell,Vanessa Ferlito,Nathalie Baye,Salma Hayek,Toby Jones,Tye Sheridan,Bel Powley,Stephen Moyer,Jack O'Connell,Miyavi,Sarah Polley,Linh Dan Pham,January Jones,Aidan Quinn,Bruce Greenwood,Max Martini,John Carroll Lynch,Elisabeth Moss,Stephen Merchant,Emily Meade,Miles Heizer,Tian Jing,Andy Lau,Rose McGowan,Freddy Rodriguez,Marley Shelton,Jemaine Clement,Tyler Hoechlin,Ryan Guzman,Wes Bentley,Logan Huffman,Alexander Ludwig,James Ransone,Adam Devine,Michael McDonald,Demian Bichir,Ella Anderson,Kate McKinnon,Leslie Jones,Ansel Elgort,Sam Elliott,Matt Long,Tom Sizemore,Thomas Jane,Matt Lanter,Geoffrey Arend,Marton Csokas,David Harbour,Cara Buono,Jamie Blackley,Joshua Leonard,Gabriella Wilde,Portia Doubleday,Matthew Zuk,Gabriela Lopez,Bailey Anne Borders,Kati Outinen,Jason Momoa,Lynn Collins,Samantha Morton,?scar Jaenada,Angelo Josue Lozano Corzo,Brett Cullen,Kevin McKidd,Steve Coogan,Brandon T. Jackson,Nathan Fillion,Ali Larter,Wentworth Miller,Kim Coates,Iain Glen,Shawn Roberts,Sienna Guillory,Aryana Engineer,Mia Stallard,Sanjeev Bhaskar,Rob Riggle,Antje Traue,Taylor Lautner,Katee Sackhoff,Jordi Moll?,Eric Stonestreet,Stephen Henderson,Jovan Adepo,Jim Caviezel,Val Kilmer,Jackie Chan,Wenwen Han,Noah Wiseman,Daniel Henshall,Hayley McElhinney,Michael Pitt,Brady Corbet,Sally Field,Matthew Fox,Leland Orser,Boyd Holbrook,Rihanna,Annabeth Gish,Brandon Routh,Dominique McElligott,Rosie Shaw,Robbie Amell,Cheryl Hines,Vanessa Hudgens,Jena Malone,Rhys Ifans,Melissa Benoist,Paul Reiser,Steve Lantz,Gregg Weiner,Alice Englert,Michael Douglas,Saurabh Shukla,Anil Kapoor,Malcolm Sinclair,Raghuvir Joshi,Noah Ringer,Jackson Rathbone,?lafur Darri ?lafsson,Joe Alwyn,Arturo Castro,Mason Lee,Oakes Fegley,Viggo Mortensen,Dylan O'Brien,Kaya Scodelario,Thomas Brodie-Sangster,Ewa Froling,Lena Endre,Peter Stormare,Freddie Highmore,Jonathan Rhys Meyers,Dermot Mulroney,Diego Klattenhoff,Penn Badgley,Dan Byrd,Colin Hanks,Kat Dennings,Alistair Abell,Lars Eidinger,Sigrid Bouaziz,Anders Danielsen Lie,Peter Facinelli,Billy Burke,Sarah Clarke,Xavier Samuel,Olivia DeJonge,Deanna Dunagan,Peter McRobbie,Stephen Lang,Jane Levy,Daniel Zovatto,Luke Wilson,Eddie Izzard,Lewis Black,Ellen DeGeneres,Ed O'Neill,Kaitlin Olson,Tessa Thompson,James Frecheville,Amy Poehler,Ike Barinholtz,John Krasinski,Pablo Schreiber,David Denman,Amara Miller,Nick Krause,Hugh Laurie,Raffey Cassidy,Brian Cox,Ophelia Lovibond,Danny Trejo,Steven Mackintosh,Josh Wiggins,Luke Kleintank,Lauren Graham,Ferdia Walsh-Peelo,Aidan Gillen,Maria Doyle Kennedy,AnnaSophia Robb,Robert Patrick,Ray Romano,Denis Leary,Chris Wedge,Morgan Saylor,Brian Marc,Adrian Martinez,Skyler Gisondo,Steele Stebbins,Tyler James Williams,Teyonah Parris,Vincent Kartheiser,Randy Couture,Jean-Claude Van Damme,Jeff Goldblum,Bill Pullman,Maika Monroe,Lior Ashkenazi,Alan Tudyk,Donnie Yen,Mel Gibson,Erin Moriarty,Michael Parks,Mandy Moore,Zachary Levi,Donna Murphy,Selma Blair,Doug Jones,John Alexander,Charlie Tahan,Salli Richardson-Whitfield,Sophie Okonedo,India Eisley,Stephen Rea,Benjamin Walker,Gabriel Bateman,Craig Robinson,Gerry Bednob,Michael Rooker,Don Thompson,Nancy Kwan,Annabelle Attanasio,Glenn Close,Dominique Tipper,Paddy Considine,Jack McBrayer,Jane Lynch,Sarah Silverman,Mia Goth,Martin McCann,Andrew Simpson,Annette Bening,David Lyons,Josh Lucas,Alexis Clagett,Jessie Ok Gray,Cary Joji Fukunaga,Storm Acheche Sahlstrom,Teri Hatcher,John Hodgman,Jennifer Saunders,Ewan McGregor,Peter Riegert,Laurie Holden,Andre Braugher,Phylicia Rashad,Antonio Tarver,Milo Ventimiglia,Burt Young,Julie Benz,Matthew Marsden,Graham McTavish,Lily Collins,Christian Cooke,Jaime Winstone,Tobias Menzies,Lara Pulver,Regina Hall,Anthony Anderson,Eve,Thomas Mann,RJ Cyler,Olivia Cooke,Kenny Wormald,Andie MacDowell,Paul Bettany,Charles S. Dutton,Lucas Black,Yoo Gong,Kang-ho Song,Ji-min Han,Radha Mitchell,Deborah Kara Unger,Rory J. Saper,Christian Stevens,Keith David,Bruno Campos,Salim Kechiouche,Aurelien Recoing,Taylor Schilling,Riley Thomas Stewart,Emily Ratajkowski,Jonny Weston,Lucas Till,Barry Pepper,Alfie Allen,Louis C.K.,Sarah Jessica Parker,Kim Cattrall,Kristin Davis,Ellar Coltrane,Patricia Arquette,Elijah Smith,Sarah Snook,Noah Taylor,Madeleine West,Juliet Rylance,Fred Dalton Thompson,Dale Dickey,Morgan Lily,Trenton Rogers,Kieran Culkin,Alison Pill,Ron Livingston,Lili Taylor,Madison Wolfe,Frances O'Connor,Quinton Aaron,Tim McGraw,Andy Samberg,Katie Crown,Kelsey Grammer,Ryan Potter,Scott Adsit,Jamie Chung,Jessica Lucas,Adam Pally,Thomas Middleditch,Shannon Woodward,Jackie Earle Haley,Chris Isaak,C.H. Evans,Sandra Kinder,Scott Speedman,Gemma Ward,Alex Fisher,Emayatzy Corinealdi,Tammy Blanchard,Karolina Gruszka,David Spade,Olivia Williams,Jason Barry,Karen Moskow,Kai Ryssdal,Dane DeHaan,Carly Rae Jepsen,Maddie Ziegler,Karl Glusman,Elena Anaya,Jan Cornet,Marisa Paredes,Tania Raymonde,Trey Songz,Emilie de Ravin,Caitlyn Rund,Moises Acevedo,Oaklee Pendergast,Shariff Earp,Duan Sanderson,Alex R. Hibbert,Armin Mueller-Stahl,Josef Altin,Nicholas Braun,Mateo Arias,Israel Broussard,Lucy Fry,Gabriel Byrne,Sophie Nelisse,Joe Cobden,Billie Piper,James Floyd,Cush Jumbo,Karen Gillan,Rory Cochrane,Taissa Farmiga,Steve Tom,Sheila Kelley,Joel David Moore,Kiernan Shipka,Lauren Holly,Idina Menzel,Jonathan Groff,Dax Shepard,Mindy Kaling,Lorenza Izzo,Ana de Armas,Aaron Burns,Christopher McDonald,Mira Sorvino,Gabourey Sidibe,Mo'Nique,Mariah Carey,Elisabeth Shue,Jerry O'Connell,Drew Barrymore,Wendi McLendon-Covey,Kevin Nealon,Chris Rock,John Turturro,Emmanuelle Chriqui,Nick Swardson,Jorge Garcia,Haley Joel Osment,Genesis Rodriguez,Natasha Henstridge,Lukas Hassel,Dominique Swain,Ben Winchell,Josh Brener,Andy Garcia,Andrea Whitburn,Jennifer Koenig,Michael Dickson,Callan McAuliffe,Lorraine Nicholson,Daniel Eric Gold,Eddie Murphy,Natascha McElhone,Victoria Justice,Lambert Wilson,Pierre Niney,Laurent Lucas,Ruby Barnhill,Penelope Wilton,Kelly Macdonald,Billy Connolly,Julie Walters,Suraj Sharma,Adil Hussain,Tabu,Chloe Sevigny,Emma Greenwell,Mel Raido,Duncan Joiner,Michael Vartan,Ronnie Gene Blevins,Kate Siegel,Michael Trucco,Samantha Sloyan,Tony Goldwyn,Adria Arjona,John C. McGinley,Cara Delevingne,Austin Abrams,Justice Smith,Ashley Benson,Rachel Korine,Sofia Black-D'Elia,Travis Tope,Michael Kelly,Logan Miller,Joey Morgan,Sarah Dumont,Taika Waititi,Cori Gonzalez-Macuer,Jonny Brugh,Jennifer Lopez,Kristin Chenoweth,John Corbett,Gabriel Chavarria,Theo Rossi,Tony Revolori,Carmen Electra,Vanessa Lachey,Nicole Parker,Mark Chao,Ni Ni,Dave Bautista,Jake Johnson,Damon Wayans Jr.,Nina Dobrev,Steven Yeun,Astrid Berges-Frisbey,Brit Marling,Max Greenfield,Tyne Daly,Jim Parsons,Steve Martin,Mae Whitman,Bella Thorne,Allison Janney,George MacKay,Samantha Isler,Annalise Basso,Giancarlo Esposito,Andy Powers,Laura Allen,Christian Distefano,Ted Levine,Kathleen Quinlan,Shiloh Fernandez,Lou Taylor Pucci,Alain Moussi,Gina Carano,Keir Gilchrist,Olivia Luccardi,Lili Sepe,Jorma Taccone,Akiva Schaffer,Jason Isaacs,Ivo Nandi,Jamie Campbell Bower,Robert Sheehan,Jemima West,Eve Lindley,Richard Kind,Mark Consuelos,Katherine Reis,Oliver Cooper,Jonathan Daniel Brown,Dax Flame,Zachery Ty Bryan,Shad Moss,Damien Marzette,Soo-an Kim,Yu-mi Jung,Dong-seok Ma,Hee-Bong Byun,Hae-il Park,Doona Bae,Aomi Muyock,Klara Kristin,Juan Saavedra,Ariel Levy,Kirby Bliss Blanton,Paula Beer,Ernst Stotzner,Marie Gruber,Garance Marillier,Ella Rumpf,Rabah Nait Oufella,Josh Stewart,Bill Engvall,Alex Essoe,Nia Vardalos,Michael Constantine,Lainie Kazan,Shameik Moore,Kiersey Clemons,Kimberly Elise,Elizabeth Reaser,Lulu Wilson,Henry Thomas\n"
     ]
    }
   ],
   "source": [
    "#存與Johnny Depp合作過的演員\n",
    "c = data[data['Actors'].str.contains('Johnny Depp')]['Actors'].values.tolist()\n",
    "#print(c)\n",
    "i = 0\n",
    "cc = []\n",
    "while i < len(c):\n",
    "    cc.extend(c[i].split('|'))\n",
    "    i = i + 1\n",
    "#print(cc)\n",
    "i = 0\n",
    "co = []\n",
    "while i < len(cc):\n",
    "    cc[i] = cc[i].lstrip(\" \")\n",
    "    if cc[i] not in co:\n",
    "        co.append(cc[i])\n",
    "    i = i + 1\n",
    "#print(co)\n",
    "\n",
    "colla = co[:]\n",
    "stop = False\n",
    "while stop == False:\n",
    "    cc = []\n",
    "    k = 0\n",
    "    while k < len(co):\n",
    "        c = data[data['Actors'].str.contains(co[k])]['Actors'].values.tolist()\n",
    "        cc.extend(c)\n",
    "        k = k + 1\n",
    "    #print(cc)\n",
    "    ccc = []\n",
    "    i = 0\n",
    "    while i < len(cc):\n",
    "        ccc.extend(cc[i].split('|'))\n",
    "        i = i + 1\n",
    "    i = 0\n",
    "    while i < len(ccc):\n",
    "        ccc[i] = ccc[i].lstrip(\" \")\n",
    "        if ccc[i] == '?scar Jaenada':\n",
    "            ccc[i] = \"scar Jaenada\"\n",
    "        if ccc[i] == '?lafur Darri ?lafsson':\n",
    "            ccc[i] = 'lafur Darri'\n",
    "        if ccc[i] == 'Ren ?sugi':\n",
    "            ccc[i] = \"sugi\"\n",
    "        if ccc[i] not in co:\n",
    "            co.append(ccc[i])\n",
    "        i = i + 1\n",
    "    #print(co)\n",
    "    if len(co) == len(colla):\n",
    "        stop = True\n",
    "    else:\n",
    "        colla = co[:]\n",
    "co = co[1:] #清除掉Johnny Depp\n",
    "i = 0\n",
    "while i < len(co):\n",
    "    if co[i] == \"scar Jaenada\":\n",
    "        co[i] = '?scar Jaenada'\n",
    "    if co[i] == 'lafur Darri':\n",
    "        co[i] = '?lafur Darri ?lafsson'\n",
    "    if co[i] == \"sugi\":\n",
    "        co[i] = 'Ren ?sugi'\n",
    "    i = i + 1\n",
    "print(\"all actors who collaborate with Johnny Depp in direct and indirect ways are \",\",\".join(i for i in co))"
   ]
  }
 ],
 "metadata": {
  "kernelspec": {
   "display_name": "Python 3",
   "language": "python",
   "name": "python3"
  },
  "language_info": {
   "codemirror_mode": {
    "name": "ipython",
    "version": 3
   },
   "file_extension": ".py",
   "mimetype": "text/x-python",
   "name": "python",
   "nbconvert_exporter": "python",
   "pygments_lexer": "ipython3",
   "version": "3.8.5"
  }
 },
 "nbformat": 4,
 "nbformat_minor": 4
}
